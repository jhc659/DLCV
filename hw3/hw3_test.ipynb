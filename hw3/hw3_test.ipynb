{
 "cells": [
  {
   "cell_type": "code",
   "execution_count": 1,
   "metadata": {},
   "outputs": [
    {
     "name": "stdout",
     "output_type": "stream",
     "text": [
      "Device used: cuda\n",
      "| To csv ...\n",
      "| Time: 50.588s\n"
     ]
    }
   ],
   "source": [
    "# Problem 1\n",
    "!bash hw3_1.sh \"/data/dlcv/hw3/hw3_data/p1_data/val\" \"/data/dlcv/hw3/hw3_data/p1_data/id2label.json\" \"./predict.csv\""
   ]
  },
  {
   "cell_type": "code",
   "execution_count": 5,
   "metadata": {},
   "outputs": [
    {
     "name": "stdout",
     "output_type": "stream",
     "text": [
      "/home/jhccc/anaconda3/envs/dlcv/lib/python3.8/site-packages/scipy/__init__.py:146: UserWarning: A NumPy version >=1.16.5 and <1.23.0 is required for this version of SciPy (detected version 1.23.4\n",
      "  warnings.warn(f\"A NumPy version >={np_minversion} and <{np_maxversion}\"\n",
      "PTBTokenizer tokenized 110968 tokens at 720548.34 tokens per second.\n",
      "PTBTokenizer tokenized 22378 tokens at 252438.59 tokens per second.\n",
      "CIDEr: 0.8750356996336179 | CLIPScore: 0.7062281037656337\n"
     ]
    }
   ],
   "source": [
    "# problem 2\n",
    "# layer 4\n",
    "!python3 p2_evaluate.py --pred_file \"./p2/output.json\" --images_root \"/data/dlcv/hw3/hw3_data/p2_data/images/val\"  --annotation_file \"/data/dlcv/hw3/hw3_data/p2_data/val.json\""
   ]
  },
  {
   "cell_type": "code",
   "execution_count": 6,
   "metadata": {},
   "outputs": [
    {
     "name": "stdout",
     "output_type": "stream",
     "text": [
      "/home/jhccc/anaconda3/envs/dlcv/lib/python3.8/site-packages/scipy/__init__.py:146: UserWarning: A NumPy version >=1.16.5 and <1.23.0 is required for this version of SciPy (detected version 1.23.4\n",
      "  warnings.warn(f\"A NumPy version >={np_minversion} and <{np_maxversion}\"\n",
      "PTBTokenizer tokenized 110968 tokens at 602524.34 tokens per second.\n",
      "PTBTokenizer tokenized 21712 tokens at 238604.89 tokens per second.\n",
      "CIDEr: 0.9106683255232717 | CLIPScore: 0.7197610888153297\n"
     ]
    }
   ],
   "source": [
    "#layer5\n",
    "!python3 p2_evaluate.py --pred_file \"./p2/pred.json\" --images_root \"/data/dlcv/hw3/hw3_data/p2_data/images/val\"  --annotation_file \"/data/dlcv/hw3/hw3_data/p2_data/val.json\""
   ]
  },
  {
   "cell_type": "code",
   "execution_count": 8,
   "metadata": {},
   "outputs": [
    {
     "name": "stdout",
     "output_type": "stream",
     "text": [
      "/home/jhccc/anaconda3/envs/dlcv/lib/python3.8/site-packages/scipy/__init__.py:146: UserWarning: A NumPy version >=1.16.5 and <1.23.0 is required for this version of SciPy (detected version 1.23.4\n",
      "  warnings.warn(f\"A NumPy version >={np_minversion} and <{np_maxversion}\"\n",
      "PTBTokenizer tokenized 110968 tokens at 685903.12 tokens per second.\n",
      "PTBTokenizer tokenized 21712 tokens at 240058.87 tokens per second.\n",
      "CIDEr: 0.9106683255232717 | CLIPScore: 0.7197610888153297\n"
     ]
    }
   ],
   "source": [
    "!python3 p2_evaluate.py --pred_file \"./p2/test.json\" --images_root \"/data/dlcv/hw3/hw3_data/p2_data/images/val\"  --annotation_file \"/data/dlcv/hw3/hw3_data/p2_data/val.json\""
   ]
  },
  {
   "cell_type": "code",
   "execution_count": 1,
   "metadata": {},
   "outputs": [
    {
     "name": "stdout",
     "output_type": "stream",
     "text": [
      "Device used: cuda\n",
      "The model has 55,361,894 trainable parameters\n",
      "# images in valid: 1789\n",
      "| To json..\n"
     ]
    }
   ],
   "source": [
    "!bash hw3_2.sh \"/data/dlcv/hw3/hw3_data/p2_data/images/val\" \"./p2/inference.json\""
   ]
  },
  {
   "cell_type": "code",
   "execution_count": 1,
   "metadata": {},
   "outputs": [
    {
     "name": "stdout",
     "output_type": "stream",
     "text": [
      "/home/jhccc/anaconda3/envs/dlcv/lib/python3.8/site-packages/scipy/__init__.py:146: UserWarning: A NumPy version >=1.16.5 and <1.23.0 is required for this version of SciPy (detected version 1.23.4\n",
      "  warnings.warn(f\"A NumPy version >={np_minversion} and <{np_maxversion}\"\n",
      "PTBTokenizer tokenized 110968 tokens at 723532.00 tokens per second.\n",
      "PTBTokenizer tokenized 21712 tokens at 217440.39 tokens per second.\n",
      "CIDEr: 0.9106683255232717 | CLIPScore: 0.7197610888153297\n"
     ]
    }
   ],
   "source": [
    "!python3 p2_evaluate.py --pred_file \"./pred.json\" --images_root \"/data/dlcv/hw3/hw3_data/p2_data/images/val\"  --annotation_file \"/data/dlcv/hw3/hw3_data/p2_data/val.json\""
   ]
  },
  {
   "cell_type": "code",
   "execution_count": 19,
   "metadata": {},
   "outputs": [
    {
     "name": "stdout",
     "output_type": "stream",
     "text": [
      "--2022-11-23 01:34:37--  https://www.dropbox.com/s/wz89m6mn8ml0kyc/ViTLlayer5_.pt?dl=1\n",
      "Resolving www.dropbox.com (www.dropbox.com)... 162.125.85.18, 2620:100:6035:18::a27d:5512\n",
      "Connecting to www.dropbox.com (www.dropbox.com)|162.125.85.18|:443... connected.\n",
      "HTTP request sent, awaiting response... 302 Found\n",
      "Location: /s/dl/wz89m6mn8ml0kyc/ViTLlayer5_.pt [following]\n",
      "--2022-11-23 01:34:38--  https://www.dropbox.com/s/dl/wz89m6mn8ml0kyc/ViTLlayer5_.pt\n",
      "Reusing existing connection to www.dropbox.com:443.\n",
      "HTTP request sent, awaiting response... 302 Found\n",
      "Location: https://ucc01e5714dbeb68a9dde3698697.dl.dropboxusercontent.com/cd/0/get/BxRPYP9POXhaahGvDx2MbCGgwPEztKGSyRV18AiV4y5s2jiug42cl4Jq4HxhhsElyh9LXYDSKzHq42Sp5sbLoPf_GTKY0foOF-7wcZZOtlLvy4BaakrWnqU6K74M5gQ8CRQAbF46Ds55c9dSJIq6XluAH782NMTo2i673KjwYzFZj7ObG44hPfTH_SLeHMOA210/file?dl=1# [following]\n",
      "--2022-11-23 01:34:38--  https://ucc01e5714dbeb68a9dde3698697.dl.dropboxusercontent.com/cd/0/get/BxRPYP9POXhaahGvDx2MbCGgwPEztKGSyRV18AiV4y5s2jiug42cl4Jq4HxhhsElyh9LXYDSKzHq42Sp5sbLoPf_GTKY0foOF-7wcZZOtlLvy4BaakrWnqU6K74M5gQ8CRQAbF46Ds55c9dSJIq6XluAH782NMTo2i673KjwYzFZj7ObG44hPfTH_SLeHMOA210/file?dl=1\n",
      "Resolving ucc01e5714dbeb68a9dde3698697.dl.dropboxusercontent.com (ucc01e5714dbeb68a9dde3698697.dl.dropboxusercontent.com)... 162.125.85.15, 2620:100:6035:15::a27d:550f\n",
      "Connecting to ucc01e5714dbeb68a9dde3698697.dl.dropboxusercontent.com (ucc01e5714dbeb68a9dde3698697.dl.dropboxusercontent.com)|162.125.85.15|:443... connected.\n",
      "HTTP request sent, awaiting response... 200 OK\n",
      "Length: 221498037 (211M) [application/binary]\n",
      "Saving to: ‘ViTL.pt’\n",
      "\n",
      "ViTL.pt             100%[===================>] 211.24M  15.0MB/s    in 15s     \n",
      "\n",
      "2022-11-23 01:34:54 (14.0 MB/s) - ‘ViTL.pt’ saved [221498037/221498037]\n",
      "\n"
     ]
    }
   ],
   "source": [
    "!bash hw3_download.sh"
   ]
  },
  {
   "cell_type": "code",
   "execution_count": null,
   "metadata": {},
   "outputs": [],
   "source": []
  }
 ],
 "metadata": {
  "kernelspec": {
   "display_name": "Python 3.8.13 ('dlcv')",
   "language": "python",
   "name": "python3"
  },
  "language_info": {
   "codemirror_mode": {
    "name": "ipython",
    "version": 3
   },
   "file_extension": ".py",
   "mimetype": "text/x-python",
   "name": "python",
   "nbconvert_exporter": "python",
   "pygments_lexer": "ipython3",
   "version": "3.8.13"
  },
  "orig_nbformat": 4,
  "vscode": {
   "interpreter": {
    "hash": "de9865ccda6098b078ef1392bd6ff1290889aa8c91ce4253d5043d68b8c8de9b"
   }
  }
 },
 "nbformat": 4,
 "nbformat_minor": 2
}
