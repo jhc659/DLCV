{
 "cells": [
  {
   "cell_type": "code",
   "execution_count": 1,
   "metadata": {},
   "outputs": [
    {
     "name": "stdout",
     "output_type": "stream",
     "text": [
      "--2022-10-29 13:38:44--  https://www.dropbox.com/s/9mg2l0t57flb29c/GAN.pth?dl=1\n",
      "Resolving www.dropbox.com (www.dropbox.com)... 162.125.85.18, 2620:100:6035:18::a27d:5512\n",
      "Connecting to www.dropbox.com (www.dropbox.com)|162.125.85.18|:443... connected.\n",
      "HTTP request sent, awaiting response... 302 Found\n",
      "Location: /s/dl/9mg2l0t57flb29c/GAN.pth [following]\n",
      "--2022-10-29 13:38:44--  https://www.dropbox.com/s/dl/9mg2l0t57flb29c/GAN.pth\n",
      "Reusing existing connection to www.dropbox.com:443.\n",
      "HTTP request sent, awaiting response... 302 Found\n",
      "Location: https://uceb77dbbf747e9a14cc20749a5c.dl.dropboxusercontent.com/cd/0/get/BvvZ8001wjCRcmk-n6Nqwbc33OLYPUVsWy2KAompGRaMzI1bDJt9Mk2iT8MIJHYJ3tutM8_-zx-zflWBBLI-tcQSkp8triRgOZ03YDRvAJrl-QTHbWUwWsnHp8OmjFQS5vcxCadgIiQAP3-M5oC4hclYsTKwn1EoXF7Qt63Yk9OWVNBZ2gUl2QIBKfBbRVJYsS4/file?dl=1# [following]\n",
      "--2022-10-29 13:38:44--  https://uceb77dbbf747e9a14cc20749a5c.dl.dropboxusercontent.com/cd/0/get/BvvZ8001wjCRcmk-n6Nqwbc33OLYPUVsWy2KAompGRaMzI1bDJt9Mk2iT8MIJHYJ3tutM8_-zx-zflWBBLI-tcQSkp8triRgOZ03YDRvAJrl-QTHbWUwWsnHp8OmjFQS5vcxCadgIiQAP3-M5oC4hclYsTKwn1EoXF7Qt63Yk9OWVNBZ2gUl2QIBKfBbRVJYsS4/file?dl=1\n",
      "Resolving uceb77dbbf747e9a14cc20749a5c.dl.dropboxusercontent.com (uceb77dbbf747e9a14cc20749a5c.dl.dropboxusercontent.com)... 162.125.85.15, 2620:100:6035:15::a27d:550f\n",
      "Connecting to uceb77dbbf747e9a14cc20749a5c.dl.dropboxusercontent.com (uceb77dbbf747e9a14cc20749a5c.dl.dropboxusercontent.com)|162.125.85.15|:443... connected.\n",
      "HTTP request sent, awaiting response... 200 OK\n",
      "Length: 75442970 (72M) [application/binary]\n",
      "Saving to: ‘GAN.pth’\n",
      "\n",
      "GAN.pth             100%[===================>]  71.95M  22.0MB/s    in 3.3s    \n",
      "\n",
      "2022-10-29 13:38:48 (22.0 MB/s) - ‘GAN.pth’ saved [75442970/75442970]\n",
      "\n",
      "--2022-10-29 13:38:48--  https://www.dropbox.com/s/x942vplguocznzo/diffusion_model.pt?dl=1\n",
      "Resolving www.dropbox.com (www.dropbox.com)... 162.125.85.18, 2620:100:6035:18::a27d:5512\n",
      "Connecting to www.dropbox.com (www.dropbox.com)|162.125.85.18|:443... connected.\n",
      "HTTP request sent, awaiting response... 302 Found\n",
      "Location: /s/dl/x942vplguocznzo/diffusion_model.pt [following]\n",
      "--2022-10-29 13:38:49--  https://www.dropbox.com/s/dl/x942vplguocznzo/diffusion_model.pt\n",
      "Reusing existing connection to www.dropbox.com:443.\n",
      "HTTP request sent, awaiting response... 302 Found\n",
      "Location: https://uc65e93fb726905488fea67ca2cd.dl.dropboxusercontent.com/cd/0/get/BvuTVsze77NKabO_0Sy4IsXPtb9szKFnhGb2xB5GKGl05c5jWRJJWimVSUuqcnoXcKl2x2JmUEawfD-SFSktwqP4-G4Tx_W12qRvRWlgmPc01ZhgfKV7DwSFchLqVl2CwGYCbarsH8eLxXuRQREHafFJE9fKBF6F8eC9beFNu3s8GEhd9GWUMAunRjY94mJqOSM/file?dl=1# [following]\n",
      "--2022-10-29 13:38:49--  https://uc65e93fb726905488fea67ca2cd.dl.dropboxusercontent.com/cd/0/get/BvuTVsze77NKabO_0Sy4IsXPtb9szKFnhGb2xB5GKGl05c5jWRJJWimVSUuqcnoXcKl2x2JmUEawfD-SFSktwqP4-G4Tx_W12qRvRWlgmPc01ZhgfKV7DwSFchLqVl2CwGYCbarsH8eLxXuRQREHafFJE9fKBF6F8eC9beFNu3s8GEhd9GWUMAunRjY94mJqOSM/file?dl=1\n",
      "Resolving uc65e93fb726905488fea67ca2cd.dl.dropboxusercontent.com (uc65e93fb726905488fea67ca2cd.dl.dropboxusercontent.com)... 162.125.85.15, 2620:100:6035:15::a27d:550f\n",
      "Connecting to uc65e93fb726905488fea67ca2cd.dl.dropboxusercontent.com (uc65e93fb726905488fea67ca2cd.dl.dropboxusercontent.com)|162.125.85.15|:443... connected.\n",
      "HTTP request sent, awaiting response... 200 OK\n",
      "Length: 93406867 (89M) [application/binary]\n",
      "Saving to: ‘diffusion_model.pt’\n",
      "\n",
      "diffusion_model.pt  100%[===================>]  89.08M  13.9MB/s    in 7.3s    \n",
      "\n",
      "2022-10-29 13:38:57 (12.2 MB/s) - ‘diffusion_model.pt’ saved [93406867/93406867]\n",
      "\n",
      "--2022-10-29 13:38:57--  https://www.dropbox.com/s/zdjknz1vmh6g98c/svhn_extractor.pth?dl=1\n",
      "Resolving www.dropbox.com (www.dropbox.com)... 162.125.85.18, 2620:100:6035:18::a27d:5512\n",
      "Connecting to www.dropbox.com (www.dropbox.com)|162.125.85.18|:443... connected.\n",
      "HTTP request sent, awaiting response... 302 Found\n",
      "Location: /s/dl/zdjknz1vmh6g98c/svhn_extractor.pth [following]\n",
      "--2022-10-29 13:38:57--  https://www.dropbox.com/s/dl/zdjknz1vmh6g98c/svhn_extractor.pth\n",
      "Reusing existing connection to www.dropbox.com:443.\n",
      "HTTP request sent, awaiting response... 302 Found\n",
      "Location: https://uc6cf528de0cac0cd6a91aabbb06.dl.dropboxusercontent.com/cd/0/get/Bvsq_UqNHmp4ikdH3rQgTTvkCPWG4wtNVOOpTI97GoLR59Vy3MTO1uO5yymdZO4Ffy1p_ZqJnhJwGT8daAXgBDHYRrI2H6Ffl-LXlHrNmIDPCd0S9qKrlTCBm5YnEPqo0aqzJslkeFtpOKF7hpHBRY5EBqkQvgRh5Qui8Xip0UQGCpHx5_GWi-hIw1JnggkzG6M/file?dl=1# [following]\n",
      "--2022-10-29 13:38:58--  https://uc6cf528de0cac0cd6a91aabbb06.dl.dropboxusercontent.com/cd/0/get/Bvsq_UqNHmp4ikdH3rQgTTvkCPWG4wtNVOOpTI97GoLR59Vy3MTO1uO5yymdZO4Ffy1p_ZqJnhJwGT8daAXgBDHYRrI2H6Ffl-LXlHrNmIDPCd0S9qKrlTCBm5YnEPqo0aqzJslkeFtpOKF7hpHBRY5EBqkQvgRh5Qui8Xip0UQGCpHx5_GWi-hIw1JnggkzG6M/file?dl=1\n",
      "Resolving uc6cf528de0cac0cd6a91aabbb06.dl.dropboxusercontent.com (uc6cf528de0cac0cd6a91aabbb06.dl.dropboxusercontent.com)... 162.125.85.15, 2620:100:6035:15::a27d:550f\n",
      "Connecting to uc6cf528de0cac0cd6a91aabbb06.dl.dropboxusercontent.com (uc6cf528de0cac0cd6a91aabbb06.dl.dropboxusercontent.com)|162.125.85.15|:443... connected.\n",
      "HTTP request sent, awaiting response... 200 OK\n",
      "Length: 8594172 (8.2M) [application/binary]\n",
      "Saving to: ‘svhn_extractor.pth’\n",
      "\n",
      "svhn_extractor.pth  100%[===================>]   8.20M  22.3MB/s    in 0.4s    \n",
      "\n",
      "2022-10-29 13:38:59 (22.3 MB/s) - ‘svhn_extractor.pth’ saved [8594172/8594172]\n",
      "\n",
      "--2022-10-29 13:38:59--  https://www.dropbox.com/s/c72w8ew3tm1y4ha/svhn_predictor.pth?dl=1\n",
      "Resolving www.dropbox.com (www.dropbox.com)... 162.125.85.18, 2620:100:6035:18::a27d:5512\n",
      "Connecting to www.dropbox.com (www.dropbox.com)|162.125.85.18|:443... connected.\n",
      "HTTP request sent, awaiting response... 302 Found\n",
      "Location: /s/dl/c72w8ew3tm1y4ha/svhn_predictor.pth [following]\n",
      "--2022-10-29 13:38:59--  https://www.dropbox.com/s/dl/c72w8ew3tm1y4ha/svhn_predictor.pth\n",
      "Reusing existing connection to www.dropbox.com:443.\n",
      "HTTP request sent, awaiting response... 302 Found\n",
      "Location: https://uc3f015e51a1577ee275bd331116.dl.dropboxusercontent.com/cd/0/get/Bvvo4thtf6EUGYYFwwck861NITsXRxE8taJLY3V58NAo39YSeteQTZzip7pdlRlbz-cxjQf_EHZ9rMVJtIx6i7H5z-qyEriIkhV6kXPkemxNSihlqjCl9iXGgjM9i2wiAHYIiyBUTBLMCXJEHG_t4j9XOUGeMpL3YU3brXjXyuF9hxTrfrwszSbAm2MuFlkdQg4/file?dl=1# [following]\n",
      "--2022-10-29 13:38:59--  https://uc3f015e51a1577ee275bd331116.dl.dropboxusercontent.com/cd/0/get/Bvvo4thtf6EUGYYFwwck861NITsXRxE8taJLY3V58NAo39YSeteQTZzip7pdlRlbz-cxjQf_EHZ9rMVJtIx6i7H5z-qyEriIkhV6kXPkemxNSihlqjCl9iXGgjM9i2wiAHYIiyBUTBLMCXJEHG_t4j9XOUGeMpL3YU3brXjXyuF9hxTrfrwszSbAm2MuFlkdQg4/file?dl=1\n",
      "Resolving uc3f015e51a1577ee275bd331116.dl.dropboxusercontent.com (uc3f015e51a1577ee275bd331116.dl.dropboxusercontent.com)... 162.125.85.15, 2620:100:6035:15::a27d:550f\n",
      "Connecting to uc3f015e51a1577ee275bd331116.dl.dropboxusercontent.com (uc3f015e51a1577ee275bd331116.dl.dropboxusercontent.com)|162.125.85.15|:443... connected.\n",
      "HTTP request sent, awaiting response... 200 OK\n",
      "Length: 2123735 (2.0M) [application/binary]\n",
      "Saving to: ‘svhn_predictor.pth’\n",
      "\n",
      "svhn_predictor.pth  100%[===================>]   2.02M  --.-KB/s    in 0.1s    \n",
      "\n",
      "2022-10-29 13:39:00 (15.9 MB/s) - ‘svhn_predictor.pth’ saved [2123735/2123735]\n",
      "\n",
      "--2022-10-29 13:39:00--  https://www.dropbox.com/s/r57irdnb8iqtnqd/usps_extractor.pth?dl=1\n",
      "Resolving www.dropbox.com (www.dropbox.com)... 162.125.85.18, 2620:100:6035:18::a27d:5512\n",
      "Connecting to www.dropbox.com (www.dropbox.com)|162.125.85.18|:443... connected.\n",
      "HTTP request sent, awaiting response... 302 Found\n",
      "Location: /s/dl/r57irdnb8iqtnqd/usps_extractor.pth [following]\n",
      "--2022-10-29 13:39:00--  https://www.dropbox.com/s/dl/r57irdnb8iqtnqd/usps_extractor.pth\n",
      "Reusing existing connection to www.dropbox.com:443.\n",
      "HTTP request sent, awaiting response... 302 Found\n",
      "Location: https://uc9dd38a853d285969b6c992d442.dl.dropboxusercontent.com/cd/0/get/BvtUStraYTKeOPxOZrNNe5n_7v_iw6hxjxBaEI7PxJiueQen1K4IJEqBmSUCJvaiZCfGqTPj6QRSRRg77jTf0VJZJGQCAE6aYoiJfw70-tM3HwZPbBMf8faXnIqwTZd4_pQkhtwtdOavWuIK8c0C_Gp-7sFkZS3ZL_KlUHnz_kxFl0Ab2fDTSkVGFTU1zw9CHzE/file?dl=1# [following]\n",
      "--2022-10-29 13:39:01--  https://uc9dd38a853d285969b6c992d442.dl.dropboxusercontent.com/cd/0/get/BvtUStraYTKeOPxOZrNNe5n_7v_iw6hxjxBaEI7PxJiueQen1K4IJEqBmSUCJvaiZCfGqTPj6QRSRRg77jTf0VJZJGQCAE6aYoiJfw70-tM3HwZPbBMf8faXnIqwTZd4_pQkhtwtdOavWuIK8c0C_Gp-7sFkZS3ZL_KlUHnz_kxFl0Ab2fDTSkVGFTU1zw9CHzE/file?dl=1\n",
      "Resolving uc9dd38a853d285969b6c992d442.dl.dropboxusercontent.com (uc9dd38a853d285969b6c992d442.dl.dropboxusercontent.com)... 162.125.85.15, 2620:100:6035:15::a27d:550f\n",
      "Connecting to uc9dd38a853d285969b6c992d442.dl.dropboxusercontent.com (uc9dd38a853d285969b6c992d442.dl.dropboxusercontent.com)|162.125.85.15|:443... connected.\n",
      "HTTP request sent, awaiting response... 200 OK\n",
      "Length: 8594172 (8.2M) [application/binary]\n",
      "Saving to: ‘usps_extractor.pth’\n",
      "\n",
      "usps_extractor.pth  100%[===================>]   8.20M  16.9MB/s    in 0.5s    \n",
      "\n",
      "2022-10-29 13:39:02 (16.9 MB/s) - ‘usps_extractor.pth’ saved [8594172/8594172]\n",
      "\n",
      "--2022-10-29 13:39:02--  https://www.dropbox.com/s/hvwwuvdnh20nle0/usps_predictor.pth?dl=1\n",
      "Resolving www.dropbox.com (www.dropbox.com)... 162.125.85.18, 2620:100:6035:18::a27d:5512\n",
      "Connecting to www.dropbox.com (www.dropbox.com)|162.125.85.18|:443... connected.\n",
      "HTTP request sent, awaiting response... 302 Found\n",
      "Location: /s/dl/hvwwuvdnh20nle0/usps_predictor.pth [following]\n",
      "--2022-10-29 13:39:02--  https://www.dropbox.com/s/dl/hvwwuvdnh20nle0/usps_predictor.pth\n",
      "Reusing existing connection to www.dropbox.com:443.\n",
      "HTTP request sent, awaiting response... 302 Found\n",
      "Location: https://uc15f45784aad8fc51d50089861f.dl.dropboxusercontent.com/cd/0/get/BvvJa2sEKKY7hrDfINsu-7sNWmHAXjf3sgKp3GAVZlbsXoOBZRpwdady9g9IzXWql6PCkUS35z1rW_sRylJ9F615Nd6HL4fWgI1ts0krD7eS9fzTxJaRmq6L6OHDwGBJSRX5aOwPteeEw3WctHcUsfH6HV2zUtdfbSYvo0b8i1q1303YgXVOjHGwVVfPPVYMc14/file?dl=1# [following]\n",
      "--2022-10-29 13:39:02--  https://uc15f45784aad8fc51d50089861f.dl.dropboxusercontent.com/cd/0/get/BvvJa2sEKKY7hrDfINsu-7sNWmHAXjf3sgKp3GAVZlbsXoOBZRpwdady9g9IzXWql6PCkUS35z1rW_sRylJ9F615Nd6HL4fWgI1ts0krD7eS9fzTxJaRmq6L6OHDwGBJSRX5aOwPteeEw3WctHcUsfH6HV2zUtdfbSYvo0b8i1q1303YgXVOjHGwVVfPPVYMc14/file?dl=1\n",
      "Resolving uc15f45784aad8fc51d50089861f.dl.dropboxusercontent.com (uc15f45784aad8fc51d50089861f.dl.dropboxusercontent.com)... 162.125.85.15, 2620:100:6035:15::a27d:550f\n",
      "Connecting to uc15f45784aad8fc51d50089861f.dl.dropboxusercontent.com (uc15f45784aad8fc51d50089861f.dl.dropboxusercontent.com)|162.125.85.15|:443... connected.\n",
      "HTTP request sent, awaiting response... 200 OK\n",
      "Length: 2123735 (2.0M) [application/binary]\n",
      "Saving to: ‘usps_predictor.pth’\n",
      "\n",
      "usps_predictor.pth  100%[===================>]   2.02M  8.75MB/s    in 0.2s    \n",
      "\n",
      "2022-10-29 13:39:03 (8.75 MB/s) - ‘usps_predictor.pth’ saved [2123735/2123735]\n",
      "\n"
     ]
    }
   ],
   "source": [
    "# download checkpoint\n",
    "!bash hw2_download.sh"
   ]
  },
  {
   "cell_type": "code",
   "execution_count": 2,
   "metadata": {},
   "outputs": [
    {
     "name": "stdout",
     "output_type": "stream",
     "text": [
      "cuda\n",
      "/data/jhccc/dlcv/hw2-jhc659/WGAN/output\n",
      "/home/jhccc/anaconda3/envs/dlcv/lib/python3.8/site-packages/scipy/__init__.py:146: UserWarning: A NumPy version >=1.16.5 and <1.23.0 is required for this version of SciPy (detected version 1.23.1\n",
      "  warnings.warn(f\"A NumPy version >={np_minversion} and <{np_maxversion}\"\n",
      "/home/jhccc/anaconda3/envs/dlcv/lib/python3.8/site-packages/torchvision/models/_utils.py:208: UserWarning: The parameter 'pretrained' is deprecated since 0.13 and will be removed in 0.15, please use 'weights' instead.\n",
      "  warnings.warn(\n",
      "/home/jhccc/anaconda3/envs/dlcv/lib/python3.8/site-packages/torchvision/models/_utils.py:223: UserWarning: Arguments other than a weight enum or `None` for 'weights' are deprecated since 0.13 and will be removed in 0.15. The current behavior is equivalent to passing `weights=None`.\n",
      "  warnings.warn(msg)\n",
      "100%|███████████████████████████████████████████| 41/41 [00:04<00:00,  9.67it/s]\n",
      "100%|███████████████████████████████████████████| 20/20 [00:01<00:00, 11.18it/s]\n",
      "FID:  23.41066267938129\n",
      "Start face recognition...\n",
      "100%|██████████████████████████████████████| 1000/1000 [00:02<00:00, 396.68it/s]\n",
      "Face recognition Accuracy: 90.400%\n"
     ]
    }
   ],
   "source": [
    "# 2-1\n",
    "!bash hw2_1.sh /data/jhccc/dlcv/hw2-jhc659/WGAN/output\n",
    "!python -m pytorch_fid --device cuda:0 '/data/dlcv/hw2/hw2_data/face/val' './WGAN/output'\n",
    "!python3 face_recog.py --image_dir \"./WGAN/output\""
   ]
  },
  {
   "cell_type": "code",
   "execution_count": 8,
   "metadata": {},
   "outputs": [
    {
     "name": "stdout",
     "output_type": "stream",
     "text": [
      "Device used: cuda\n",
      "cuda:0\n",
      "model loaded from ./Classifier.pth\n",
      "acc = 0.96 (correct/total = 960/1000)\n"
     ]
    }
   ],
   "source": [
    "# 2-2\n",
    "# 0: 7 min \n",
    "# 0.9: 8m 0.948\n",
    "# 0.85: 8m 26s 0.96\n",
    "# 0.8: 8m 47s 0.968\n",
    "!bash hw2_2.sh /data/jhccc/dlcv/hw2-jhc659/DDPM/output\n",
    "!python3 digit_classifier.py --folder \"/data/jhccc/dlcv/hw2-jhc659/DDPM/output\"\n"
   ]
  },
  {
   "cell_type": "code",
   "execution_count": 3,
   "metadata": {},
   "outputs": [
    {
     "name": "stdout",
     "output_type": "stream",
     "text": [
      "Device used: cuda\n",
      "| load usps successfully\n",
      "# images: 7438\n",
      "Image tensor in each batch: torch.Size([4, 3, 28, 28]) torch.float32\n",
      "| start eval...\n",
      "| To csv ...\n"
     ]
    }
   ],
   "source": [
    "# 2-3\n",
    "!bash hw2_3.sh \"/data/dlcv/hw2/hw2_data/digits/usps/data\" \"./pred.csv\""
   ]
  },
  {
   "cell_type": "code",
   "execution_count": 4,
   "metadata": {},
   "outputs": [
    {
     "name": "stdout",
     "output_type": "stream",
     "text": [
      "Device used: cuda\n",
      "| load svhn successfully\n",
      "# images: 79431\n",
      "Image tensor in each batch: torch.Size([4, 3, 28, 28]) torch.float32\n",
      "| start eval...\n",
      "| To csv ...\n"
     ]
    }
   ],
   "source": [
    "!bash hw2_3.sh \"/data/dlcv/hw2/hw2_data/digits/svhn/data\" \"./pred.csv\""
   ]
  },
  {
   "cell_type": "code",
   "execution_count": null,
   "metadata": {},
   "outputs": [],
   "source": []
  }
 ],
 "metadata": {
  "kernelspec": {
   "display_name": "Python 3.8.13 ('dlcv')",
   "language": "python",
   "name": "python3"
  },
  "language_info": {
   "codemirror_mode": {
    "name": "ipython",
    "version": 3
   },
   "file_extension": ".py",
   "mimetype": "text/x-python",
   "name": "python",
   "nbconvert_exporter": "python",
   "pygments_lexer": "ipython3",
   "version": "3.8.13"
  },
  "orig_nbformat": 4,
  "vscode": {
   "interpreter": {
    "hash": "de9865ccda6098b078ef1392bd6ff1290889aa8c91ce4253d5043d68b8c8de9b"
   }
  }
 },
 "nbformat": 4,
 "nbformat_minor": 2
}
